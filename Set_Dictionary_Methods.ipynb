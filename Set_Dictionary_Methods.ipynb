{
  "nbformat": 4,
  "nbformat_minor": 0,
  "metadata": {
    "colab": {
      "provenance": [],
      "authorship_tag": "ABX9TyNWwE4GlppIAVgGCrJJXtYp",
      "include_colab_link": true
    },
    "kernelspec": {
      "name": "python3",
      "display_name": "Python 3"
    },
    "language_info": {
      "name": "python"
    }
  },
  "cells": [
    {
      "cell_type": "markdown",
      "metadata": {
        "id": "view-in-github",
        "colab_type": "text"
      },
      "source": [
        "<a href=\"https://colab.research.google.com/github/Rishi-Kora/Set_Dictionary_Methods/blob/main/Set_Dictionary_Methods.ipynb\" target=\"_parent\"><img src=\"https://colab.research.google.com/assets/colab-badge.svg\" alt=\"Open In Colab\"/></a>"
      ]
    },
    {
      "cell_type": "markdown",
      "source": [
        "# Set"
      ],
      "metadata": {
        "id": "eV5t75guwYkZ"
      }
    },
    {
      "cell_type": "code",
      "execution_count": 1,
      "metadata": {
        "id": "URREMMfZuqvq"
      },
      "outputs": [],
      "source": [
        "exampleset = {\"Juice\", \"Milk\", \"Egg\", \"Bread\"}\n",
        "exampleset.add(\"Mutton\") #adds a new element to the set"
      ]
    },
    {
      "cell_type": "code",
      "source": [
        "exampleset"
      ],
      "metadata": {
        "colab": {
          "base_uri": "https://localhost:8080/"
        },
        "id": "pfBSM9WRuzDR",
        "outputId": "50905b4b-685c-4809-c9a4-f668cd0468f6"
      },
      "execution_count": 2,
      "outputs": [
        {
          "output_type": "execute_result",
          "data": {
            "text/plain": [
              "{'Bread', 'Egg', 'Juice', 'Milk', 'Mutton'}"
            ]
          },
          "metadata": {},
          "execution_count": 2
        }
      ]
    },
    {
      "cell_type": "code",
      "source": [
        "exampleset.clear() #removes all the elements from the set"
      ],
      "metadata": {
        "id": "xv9NJzhau1Z-"
      },
      "execution_count": 3,
      "outputs": []
    },
    {
      "cell_type": "code",
      "source": [
        "exampleset"
      ],
      "metadata": {
        "colab": {
          "base_uri": "https://localhost:8080/"
        },
        "id": "fBroSMvtu3fJ",
        "outputId": "56fcc77b-63d4-4e39-c5bb-d17080767b99"
      },
      "execution_count": 4,
      "outputs": [
        {
          "output_type": "execute_result",
          "data": {
            "text/plain": [
              "set()"
            ]
          },
          "metadata": {},
          "execution_count": 4
        }
      ]
    },
    {
      "cell_type": "code",
      "source": [
        "set1={\"Ford\",\"Fiat\",\"Mercedes Benz\",\"Kia\"}\n",
        "set1.copy() #returns a copy of the set"
      ],
      "metadata": {
        "colab": {
          "base_uri": "https://localhost:8080/"
        },
        "id": "jzkrQXVvu5Ic",
        "outputId": "01e5e6d3-de2f-411a-edf3-5128cef2ebae"
      },
      "execution_count": 5,
      "outputs": [
        {
          "output_type": "execute_result",
          "data": {
            "text/plain": [
              "{'Fiat', 'Ford', 'Kia', 'Mercedes Benz'}"
            ]
          },
          "metadata": {},
          "execution_count": 5
        }
      ]
    },
    {
      "cell_type": "code",
      "source": [
        "set2={\"Kia\",\"banana\",\"grapes\",\"raisins\"}"
      ],
      "metadata": {
        "id": "aXWkxR4Ou7z-"
      },
      "execution_count": 6,
      "outputs": []
    },
    {
      "cell_type": "code",
      "source": [
        "set2.difference(set1) #returns a set containing the difference between two or more sets"
      ],
      "metadata": {
        "colab": {
          "base_uri": "https://localhost:8080/"
        },
        "id": "ccwcpQ0Qu964",
        "outputId": "7e895b85-8c8c-4ad5-f8f0-237488f167c0"
      },
      "execution_count": 7,
      "outputs": [
        {
          "output_type": "execute_result",
          "data": {
            "text/plain": [
              "{'banana', 'grapes', 'raisins'}"
            ]
          },
          "metadata": {},
          "execution_count": 7
        }
      ]
    },
    {
      "cell_type": "code",
      "source": [
        "set1.difference(set2) #returns a set containing the difference between two or more sets"
      ],
      "metadata": {
        "colab": {
          "base_uri": "https://localhost:8080/"
        },
        "id": "3ezyvSbfvAGm",
        "outputId": "cc09b966-8221-4ba1-f3e3-0fd17e3f2480"
      },
      "execution_count": 8,
      "outputs": [
        {
          "output_type": "execute_result",
          "data": {
            "text/plain": [
              "{'Fiat', 'Ford', 'Mercedes Benz'}"
            ]
          },
          "metadata": {},
          "execution_count": 8
        }
      ]
    },
    {
      "cell_type": "code",
      "source": [
        "set1.difference_update(set2) #removes the items in this set that are also included in another, specified set\n",
        "set1"
      ],
      "metadata": {
        "colab": {
          "base_uri": "https://localhost:8080/"
        },
        "id": "iID-kuPbvFJS",
        "outputId": "7de9991b-9264-4aae-b9df-af863e47e75a"
      },
      "execution_count": 9,
      "outputs": [
        {
          "output_type": "execute_result",
          "data": {
            "text/plain": [
              "{'Fiat', 'Ford', 'Mercedes Benz'}"
            ]
          },
          "metadata": {},
          "execution_count": 9
        }
      ]
    },
    {
      "cell_type": "code",
      "source": [
        "set1.discard(\"Fiat\") #remove the specified item"
      ],
      "metadata": {
        "id": "bBz2s35jvJWn"
      },
      "execution_count": 10,
      "outputs": []
    },
    {
      "cell_type": "code",
      "source": [
        "set1"
      ],
      "metadata": {
        "colab": {
          "base_uri": "https://localhost:8080/"
        },
        "id": "C-LW1c6pvLUN",
        "outputId": "32aaa6df-db98-42e2-e7f8-c687e928495c"
      },
      "execution_count": 11,
      "outputs": [
        {
          "output_type": "execute_result",
          "data": {
            "text/plain": [
              "{'Ford', 'Mercedes Benz'}"
            ]
          },
          "metadata": {},
          "execution_count": 11
        }
      ]
    },
    {
      "cell_type": "code",
      "source": [
        "set2= {\"apple\", \"banana\", \"cherry\"}\n",
        "set3= {\"google\", \"microsoft\", \"apple\"}\n",
        "set2.intersection(set3) #returns a set, that is the intersection of two or more sets"
      ],
      "metadata": {
        "colab": {
          "base_uri": "https://localhost:8080/"
        },
        "id": "-Jwo5LdnvMWQ",
        "outputId": "eab54053-d4bf-4b0e-e51b-df1e8f726626"
      },
      "execution_count": 12,
      "outputs": [
        {
          "output_type": "execute_result",
          "data": {
            "text/plain": [
              "{'apple'}"
            ]
          },
          "metadata": {},
          "execution_count": 12
        }
      ]
    },
    {
      "cell_type": "code",
      "source": [
        "set2.intersection_update(set3) #removes the items in this set that are not present in other, specified sets\n",
        "set2"
      ],
      "metadata": {
        "colab": {
          "base_uri": "https://localhost:8080/"
        },
        "id": "UXBFu4-JvOv5",
        "outputId": "991cbd65-3d75-43b6-e8bd-97d64cfb2f0a"
      },
      "execution_count": 13,
      "outputs": [
        {
          "output_type": "execute_result",
          "data": {
            "text/plain": [
              "{'apple'}"
            ]
          },
          "metadata": {},
          "execution_count": 13
        }
      ]
    },
    {
      "cell_type": "code",
      "source": [
        "set3 = {\"apple\", \"banana\", \"cherry\"}\n",
        "set4= {\"google\", \"microsoft\", \"facebook\"}\n",
        "set3.isdisjoint(set4) #returns whether two sets have a intersection or not"
      ],
      "metadata": {
        "colab": {
          "base_uri": "https://localhost:8080/"
        },
        "id": "fIc33ixcvSIg",
        "outputId": "e24959dc-33a4-4901-c2ef-e5e0db5666e3"
      },
      "execution_count": 14,
      "outputs": [
        {
          "output_type": "execute_result",
          "data": {
            "text/plain": [
              "True"
            ]
          },
          "metadata": {},
          "execution_count": 14
        }
      ]
    },
    {
      "cell_type": "code",
      "source": [
        "set5= {\"a\", \"b\", \"c\"}\n",
        "set6 = {\"f\", \"e\", \"d\", \"c\", \"b\", \"a\"}"
      ],
      "metadata": {
        "id": "94m-LKnAvUoC"
      },
      "execution_count": 18,
      "outputs": []
    },
    {
      "cell_type": "code",
      "source": [
        "set5.issubset(set6) #returns whether another set contains this set or not"
      ],
      "metadata": {
        "colab": {
          "base_uri": "https://localhost:8080/"
        },
        "id": "Q46RhzaBvW6F",
        "outputId": "71b1bdf2-83b2-45ef-fccb-8717a9c3a40a"
      },
      "execution_count": 19,
      "outputs": [
        {
          "output_type": "execute_result",
          "data": {
            "text/plain": [
              "True"
            ]
          },
          "metadata": {},
          "execution_count": 19
        }
      ]
    },
    {
      "cell_type": "code",
      "source": [
        "set6.issubset(set5) #returns whether another set contains this set or not"
      ],
      "metadata": {
        "colab": {
          "base_uri": "https://localhost:8080/"
        },
        "id": "1ZKx517CvZEX",
        "outputId": "e53225f8-9896-4943-c87d-2af652935200"
      },
      "execution_count": 20,
      "outputs": [
        {
          "output_type": "execute_result",
          "data": {
            "text/plain": [
              "False"
            ]
          },
          "metadata": {},
          "execution_count": 20
        }
      ]
    },
    {
      "cell_type": "code",
      "source": [
        "fruits = {\"apple\", \"banana\", \"cherry\"}\n",
        "fruits.pop() #removes a random item from the set"
      ],
      "metadata": {
        "colab": {
          "base_uri": "https://localhost:8080/",
          "height": 35
        },
        "id": "-pE1Hj4PvrTF",
        "outputId": "7943bbc2-2fb3-4a43-afe1-3f87ffa9f373"
      },
      "execution_count": 21,
      "outputs": [
        {
          "output_type": "execute_result",
          "data": {
            "text/plain": [
              "'banana'"
            ],
            "application/vnd.google.colaboratory.intrinsic+json": {
              "type": "string"
            }
          },
          "metadata": {},
          "execution_count": 21
        }
      ]
    },
    {
      "cell_type": "code",
      "source": [
        "set1={\"Ford\",\"Fiat\",\"Mercedes Benz\",\"Kia\"}\n",
        "set1.remove(\"Kia\") #removes the specified element from the set"
      ],
      "metadata": {
        "id": "u0Tpio3cvrxD"
      },
      "execution_count": 22,
      "outputs": []
    },
    {
      "cell_type": "code",
      "source": [
        "set1"
      ],
      "metadata": {
        "colab": {
          "base_uri": "https://localhost:8080/"
        },
        "id": "Wgncf4Hhvt4E",
        "outputId": "363f5476-bcd5-4275-cde4-45262435f574"
      },
      "execution_count": 23,
      "outputs": [
        {
          "output_type": "execute_result",
          "data": {
            "text/plain": [
              "{'Fiat', 'Ford', 'Mercedes Benz'}"
            ]
          },
          "metadata": {},
          "execution_count": 23
        }
      ]
    },
    {
      "cell_type": "code",
      "source": [
        "set7={\"Rishi\",\"Prem\",\"Kavitha\"}\n",
        "set8={\"Rochita\",\"Rishi\",\"Nishi\"}\n",
        "set7.symmetric_difference(set8) #returns a set with the symmetric differences of two sets"
      ],
      "metadata": {
        "colab": {
          "base_uri": "https://localhost:8080/"
        },
        "id": "4UHQHc8gvwGM",
        "outputId": "9d8a03b3-88d7-4561-ef82-782943425e43"
      },
      "execution_count": 29,
      "outputs": [
        {
          "output_type": "execute_result",
          "data": {
            "text/plain": [
              "{'Kavitha', 'Nishi', 'Prem', 'Rochita'}"
            ]
          },
          "metadata": {},
          "execution_count": 29
        }
      ]
    },
    {
      "cell_type": "code",
      "source": [
        "set7.symmetric_difference_update(set8) #updates the original set by removing items that are present in both sets, and inserting the other items"
      ],
      "metadata": {
        "id": "RmShXBAIvybm"
      },
      "execution_count": 30,
      "outputs": []
    },
    {
      "cell_type": "code",
      "source": [
        "set7"
      ],
      "metadata": {
        "colab": {
          "base_uri": "https://localhost:8080/"
        },
        "id": "e4FRizQYv1IQ",
        "outputId": "29726008-9958-4544-cdfa-095293b4efb8"
      },
      "execution_count": 31,
      "outputs": [
        {
          "output_type": "execute_result",
          "data": {
            "text/plain": [
              "{'Kavitha', 'Nishi', 'Prem', 'Rochita'}"
            ]
          },
          "metadata": {},
          "execution_count": 31
        }
      ]
    },
    {
      "cell_type": "code",
      "source": [
        "set8= {\"apple\", \"banana\", \"cherry\"}\n",
        "set9 = {\"google\", \"microsoft\", \"apple\"}\n",
        "set8.union(set9) #returns a set that contains all items from the original set, and all items from the specified sets"
      ],
      "metadata": {
        "colab": {
          "base_uri": "https://localhost:8080/"
        },
        "id": "cGoa4FSOv3NF",
        "outputId": "b1daa0cf-5ce6-402c-b475-526aecfb3c4a"
      },
      "execution_count": 32,
      "outputs": [
        {
          "output_type": "execute_result",
          "data": {
            "text/plain": [
              "{'apple', 'banana', 'cherry', 'google', 'microsoft'}"
            ]
          },
          "metadata": {},
          "execution_count": 32
        }
      ]
    },
    {
      "cell_type": "code",
      "source": [
        "set10 = {\"apple\", \"banana\", \"cherry\"}\n",
        "set11 = {\"google\", \"microsoft\", \"apple\"}\n",
        "set10.update(set11) #update the set with another set, or any other iterable"
      ],
      "metadata": {
        "id": "gYgvCMx9wR4l"
      },
      "execution_count": 33,
      "outputs": []
    },
    {
      "cell_type": "code",
      "source": [
        "set10"
      ],
      "metadata": {
        "colab": {
          "base_uri": "https://localhost:8080/"
        },
        "id": "Ir4rMDDSwTNF",
        "outputId": "73120877-b97b-4402-efd4-0b38b6bec402"
      },
      "execution_count": 34,
      "outputs": [
        {
          "output_type": "execute_result",
          "data": {
            "text/plain": [
              "{'apple', 'banana', 'cherry', 'google', 'microsoft'}"
            ]
          },
          "metadata": {},
          "execution_count": 34
        }
      ]
    },
    {
      "cell_type": "code",
      "source": [
        "set11"
      ],
      "metadata": {
        "colab": {
          "base_uri": "https://localhost:8080/"
        },
        "id": "pScQ6MPdwU6G",
        "outputId": "e7423b97-3b5f-44c7-8988-fb26f756c7cc"
      },
      "execution_count": 35,
      "outputs": [
        {
          "output_type": "execute_result",
          "data": {
            "text/plain": [
              "{'apple', 'google', 'microsoft'}"
            ]
          },
          "metadata": {},
          "execution_count": 35
        }
      ]
    },
    {
      "cell_type": "markdown",
      "source": [
        "# Dictionaries"
      ],
      "metadata": {
        "id": "bmSUznSlweBa"
      }
    },
    {
      "cell_type": "code",
      "source": [
        "name={\"Rishi\":22,\"Prem\":52,\"Rochita\":24}\n",
        "name"
      ],
      "metadata": {
        "colab": {
          "base_uri": "https://localhost:8080/"
        },
        "id": "igJsDjG8wV01",
        "outputId": "cea1b3f1-2f18-4c30-cfa8-4ee98eba5544"
      },
      "execution_count": 36,
      "outputs": [
        {
          "output_type": "execute_result",
          "data": {
            "text/plain": [
              "{'Rishi': 22, 'Prem': 52, 'Rochita': 24}"
            ]
          },
          "metadata": {},
          "execution_count": 36
        }
      ]
    },
    {
      "cell_type": "code",
      "source": [
        "name.clear() #removes all the elements from a dictionary\n",
        "name"
      ],
      "metadata": {
        "colab": {
          "base_uri": "https://localhost:8080/"
        },
        "id": "z8UNB80rwi4_",
        "outputId": "53b161a1-a206-4fbc-c13c-512aa3d1aa0f"
      },
      "execution_count": 37,
      "outputs": [
        {
          "output_type": "execute_result",
          "data": {
            "text/plain": [
              "{}"
            ]
          },
          "metadata": {},
          "execution_count": 37
        }
      ]
    },
    {
      "cell_type": "code",
      "source": [
        "cars={\"BMW\":\"X1\",\"Lamborghini\":\"Urus\",\"Audi\":\"A8\"}\n",
        "cars.copy() #returns a copy of the specified dictionary"
      ],
      "metadata": {
        "colab": {
          "base_uri": "https://localhost:8080/"
        },
        "id": "VVBNkOScwket",
        "outputId": "6831832e-6994-4c9b-95cb-f8104ead2a2c"
      },
      "execution_count": 38,
      "outputs": [
        {
          "output_type": "execute_result",
          "data": {
            "text/plain": [
              "{'BMW': 'X1', 'Lamborghini': 'Urus', 'Audi': 'A8'}"
            ]
          },
          "metadata": {},
          "execution_count": 38
        }
      ]
    },
    {
      "cell_type": "code",
      "source": [
        "dict1={\"Honda\",\"Suzuki\",\"Aprilla\"}\n",
        "dict2=0\n",
        "dict.fromkeys(dict1,dict2) #returns a dictionary with the specified keys and the specified value"
      ],
      "metadata": {
        "colab": {
          "base_uri": "https://localhost:8080/"
        },
        "id": "ttBN2_C_wmml",
        "outputId": "652f3721-947d-40d4-c935-cf5fff94a2d6"
      },
      "execution_count": 39,
      "outputs": [
        {
          "output_type": "execute_result",
          "data": {
            "text/plain": [
              "{'Aprilla': 0, 'Suzuki': 0, 'Honda': 0}"
            ]
          },
          "metadata": {},
          "execution_count": 39
        }
      ]
    },
    {
      "cell_type": "code",
      "source": [
        "car = {\n",
        "  \"brand\": \"Ford\",\n",
        "  \"model\": \"Mustang\",\n",
        "  \"year\": 1964\n",
        "}\n",
        "car.get(\"model\") #returns the value of the item with the specified key"
      ],
      "metadata": {
        "colab": {
          "base_uri": "https://localhost:8080/",
          "height": 35
        },
        "id": "_6ZBEt7swpSb",
        "outputId": "5fb046b6-3abf-441b-929d-65cc675fa4c6"
      },
      "execution_count": 40,
      "outputs": [
        {
          "output_type": "execute_result",
          "data": {
            "text/plain": [
              "'Mustang'"
            ],
            "application/vnd.google.colaboratory.intrinsic+json": {
              "type": "string"
            }
          },
          "metadata": {},
          "execution_count": 40
        }
      ]
    },
    {
      "cell_type": "code",
      "source": [
        "car = {\n",
        "  \"brand\": \"Ford\",\n",
        "  \"model\": \"Mustang\",\n",
        "  \"year\": 2023\n",
        "}\n",
        "car.items() #returns a view object. The view object contains the key-value pairs of the dictionary, as tuples in a list"
      ],
      "metadata": {
        "colab": {
          "base_uri": "https://localhost:8080/"
        },
        "id": "x_oOICZQwra7",
        "outputId": "37d746b1-5d3e-4d25-e6c1-c6696a48d38f"
      },
      "execution_count": 41,
      "outputs": [
        {
          "output_type": "execute_result",
          "data": {
            "text/plain": [
              "dict_items([('brand', 'Ford'), ('model', 'Mustang'), ('year', 2023)])"
            ]
          },
          "metadata": {},
          "execution_count": 41
        }
      ]
    },
    {
      "cell_type": "code",
      "source": [
        "bike = {\n",
        "  \"brand\": \"Suzuki\",\n",
        "  \"model\": \"Hayabusa\",\n",
        "  \"year\": 2023\n",
        "}\n",
        "bike.keys() #returns a view object. The view object contains the keys of the dictionary, as a list"
      ],
      "metadata": {
        "colab": {
          "base_uri": "https://localhost:8080/"
        },
        "id": "Zu5OqPsvwtot",
        "outputId": "19603167-b44c-49c0-9896-41f0671ca0c2"
      },
      "execution_count": 42,
      "outputs": [
        {
          "output_type": "execute_result",
          "data": {
            "text/plain": [
              "dict_keys(['brand', 'model', 'year'])"
            ]
          },
          "metadata": {},
          "execution_count": 42
        }
      ]
    },
    {
      "cell_type": "code",
      "source": [
        "bike = {\n",
        "  \"brand\": \"Suzuki\",\n",
        "  \"model\": \"Hayabusa\",\n",
        "  \"year\": 2023\n",
        "}\n",
        "bike.pop(\"model\") #removes the specified item from the dictionary"
      ],
      "metadata": {
        "colab": {
          "base_uri": "https://localhost:8080/",
          "height": 35
        },
        "id": "M6Sak8qnwv5R",
        "outputId": "d4491cc6-5567-4316-8414-bae48bebb1e3"
      },
      "execution_count": 43,
      "outputs": [
        {
          "output_type": "execute_result",
          "data": {
            "text/plain": [
              "'Hayabusa'"
            ],
            "application/vnd.google.colaboratory.intrinsic+json": {
              "type": "string"
            }
          },
          "metadata": {},
          "execution_count": 43
        }
      ]
    },
    {
      "cell_type": "code",
      "source": [
        "bike = {\n",
        "  \"brand\": \"Suzuki\",\n",
        "  \"model\": \"Hayabusa\",\n",
        "  \"year\": 2023\n",
        "}\n",
        "bike.setdefault(\"engine type\") #returns the value of the item with the specified key"
      ],
      "metadata": {
        "id": "ncQu1wkDwyDp"
      },
      "execution_count": 44,
      "outputs": []
    },
    {
      "cell_type": "code",
      "source": [
        "bike.setdefault(\"color\",\"grey\") #returns the value of the item with the specified key."
      ],
      "metadata": {
        "colab": {
          "base_uri": "https://localhost:8080/",
          "height": 35
        },
        "id": "po5PvgjLw0UD",
        "outputId": "641c8d58-35da-41f5-d9aa-44bcbc4c4eca"
      },
      "execution_count": 46,
      "outputs": [
        {
          "output_type": "execute_result",
          "data": {
            "text/plain": [
              "'grey'"
            ],
            "application/vnd.google.colaboratory.intrinsic+json": {
              "type": "string"
            }
          },
          "metadata": {},
          "execution_count": 46
        }
      ]
    },
    {
      "cell_type": "code",
      "source": [
        "bike"
      ],
      "metadata": {
        "colab": {
          "base_uri": "https://localhost:8080/"
        },
        "id": "xBab2nHGw3FB",
        "outputId": "08c93ecd-3d2b-4a88-9619-c84699b84955"
      },
      "execution_count": 47,
      "outputs": [
        {
          "output_type": "execute_result",
          "data": {
            "text/plain": [
              "{'brand': 'Suzuki',\n",
              " 'model': 'Hayabusa',\n",
              " 'year': 2023,\n",
              " 'engine type': None,\n",
              " 'color': 'grey'}"
            ]
          },
          "metadata": {},
          "execution_count": 47
        }
      ]
    },
    {
      "cell_type": "code",
      "source": [
        "bike.update({\"engine type\":\"petrol\"})#inserts the specified items to the dictionary"
      ],
      "metadata": {
        "id": "MW-rViQJxEZU"
      },
      "execution_count": 48,
      "outputs": []
    },
    {
      "cell_type": "code",
      "source": [
        "bike"
      ],
      "metadata": {
        "colab": {
          "base_uri": "https://localhost:8080/"
        },
        "id": "CJ8jfl9NxG6K",
        "outputId": "513b614b-90de-4cbc-bab7-172734b7bd45"
      },
      "execution_count": 49,
      "outputs": [
        {
          "output_type": "execute_result",
          "data": {
            "text/plain": [
              "{'brand': 'Suzuki',\n",
              " 'model': 'Hayabusa',\n",
              " 'year': 2023,\n",
              " 'engine type': 'petrol',\n",
              " 'color': 'grey'}"
            ]
          },
          "metadata": {},
          "execution_count": 49
        }
      ]
    },
    {
      "cell_type": "code",
      "source": [
        "bike.values() #returns a view object. The view object contains the values of the dictionary, as a list"
      ],
      "metadata": {
        "colab": {
          "base_uri": "https://localhost:8080/"
        },
        "id": "TvFkOUeYxImm",
        "outputId": "53470c69-7d7c-4a0e-f49c-33fd7715f998"
      },
      "execution_count": 50,
      "outputs": [
        {
          "output_type": "execute_result",
          "data": {
            "text/plain": [
              "dict_values(['Suzuki', 'Hayabusa', 2023, 'petrol', 'grey'])"
            ]
          },
          "metadata": {},
          "execution_count": 50
        }
      ]
    },
    {
      "cell_type": "code",
      "source": [],
      "metadata": {
        "id": "q_PDROBOxLtY"
      },
      "execution_count": null,
      "outputs": []
    }
  ]
}